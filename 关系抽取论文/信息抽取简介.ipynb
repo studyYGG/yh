{
 "cells": [
  {
   "cell_type": "markdown",
   "metadata": {},
   "source": [
    "# 1. 什么是信息抽取"
   ]
  },
  {
   "cell_type": "markdown",
   "metadata": {},
   "source": [
    "&emsp;&emsp;信息抽取（information extraction）即从自然语言文本中，抽取出特定的事件或事实，帮助我们将海量内容自动分类、提取和重构。这些信息通常包括实体（entity）、关系（relation）、事件（event），实体对应了命名实体识别的任务，关系对应关系抽取任务，事件对应事件抽取任务。例如从新闻中抽取事件、地点、关键人物、或者从技术文档中抽取产品名称、开发事件、性能指标等。"
   ]
  },
  {
   "cell_type": "markdown",
   "metadata": {
    "ExecuteTime": {
     "end_time": "2021-05-25T01:14:47.511712Z",
     "start_time": "2021-05-25T01:14:47.505692Z"
    }
   },
   "source": [
    "&emsp;&emsp;信息抽取主要包含三个子任务：\n",
    "- 实体抽取与链指：即命名实体识别，识别出句子中的实体，如“刘恺威和杨幂夫妻离婚了”中，实体有刘恺威、杨幂\n",
    "- 关系抽取：即通常说的三元组抽取（spo），主体、客体、关系。如“中国举行了2008年奥运会”，主体：中国；客体：奥运会；关系：举行\n",
    "- 事件抽取：相当于一种多元关系抽取，如一句话存在多个spo三元组，或者一个主体对应多个客体等。"
   ]
  },
  {
   "cell_type": "markdown",
   "metadata": {},
   "source": [
    "&emsp;&emsp;信息抽取有时也被称为事件抽取（event extratction）。与自动摘要相比，信息抽取更有目的性，并能将找到的信息以一定的框架展示。自动摘要输出的是完整的自然语言句子，需要考虑语言的连贯和语法，甚至逻辑。有时信息抽取也被用来完成自动摘要。"
   ]
  },
  {
   "cell_type": "code",
   "execution_count": null,
   "metadata": {},
   "outputs": [],
   "source": []
  }
 ],
 "metadata": {
  "kernelspec": {
   "display_name": "Python 3",
   "language": "python",
   "name": "python3"
  },
  "language_info": {
   "codemirror_mode": {
    "name": "ipython",
    "version": 3
   },
   "file_extension": ".py",
   "mimetype": "text/x-python",
   "name": "python",
   "nbconvert_exporter": "python",
   "pygments_lexer": "ipython3",
   "version": "3.6.4"
  }
 },
 "nbformat": 4,
 "nbformat_minor": 2
}
